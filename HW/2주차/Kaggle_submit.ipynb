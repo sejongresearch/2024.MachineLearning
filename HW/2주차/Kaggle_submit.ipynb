{
  "cells": [
    {
      "metadata": {
        "_uuid": "8f2839f25d086af736a60e9eeb907d3b93b6e0e5",
        "_cell_guid": "b1076dfc-b9ad-4769-8c92-a6c4dae69d19",
        "trusted": true,
        "id": "Aq_gyY8uTr0O",
        "outputId": "897516e1-1fbe-4c00-bf7b-e0258f24bfe8"
      },
      "cell_type": "code",
      "source": [
        "# This Python 3 environment comes with many helpful analytics libraries installed\n",
        "# It is defined by the kaggle/python Docker image: https://github.com/kaggle/docker-python\n",
        "# For example, here's several helpful packages to load\n",
        "\n",
        "import numpy as np # linear algebra\n",
        "import pandas as pd # data processing, CSV file I/O (e.g. pd.read_csv)\n",
        "\n",
        "# Input data files are available in the read-only \"../input/\" directory\n",
        "# For example, running this (by clicking run or pressing Shift+Enter) will list all files under the input directory\n",
        "\n",
        "import os\n",
        "for dirname, _, filenames in os.walk('/kaggle/input'):\n",
        "    for filename in filenames:\n",
        "        print(os.path.join(dirname, filename))\n",
        "\n",
        "# You can write up to 20GB to the current directory (/kaggle/working/) that gets preserved as output when you create a version using \"Save & Run All\" \n",
        "# You can also write temporary files to /kaggle/temp/, but they won't be saved outside of the current session"
      ],
      "execution_count": null,
      "outputs": [
        {
          "output_type": "stream",
          "text": "/kaggle/input/2021-ml-w1p2/2021.AI.cancer-train.csv\n/kaggle/input/2021-ml-w1p2/2021.AI.cancer-sample-submission.csv\n/kaggle/input/2021-ml-w1p2/2021.AI.cancer-test.csv\n",
          "name": "stdout"
        }
      ]
    },
    {
      "metadata": {
        "trusted": true,
        "id": "VjERndhETr0S"
      },
      "cell_type": "code",
      "source": [
        "import torch\n",
        "import pandas as pd\n",
        "import torch.optim as optim\n",
        "import numpy as np\n",
        "torch.manual_seed(1)\n",
        "#device = torch.device(\"cuda\")\n",
        "#데이터\n",
        "xy_data = pd.read_csv('/kaggle/input/2022-ml-w3p2/2023.AI.cancer-train.csv')\n",
        "x_test = pd.read_csv('/kaggle/input/2022-ml-w3p2/2023.AI.cancer-test.csv')\n",
        "submit = pd.read_csv('/kaggle/input/2022-ml-w3p2/2023.AI.cancer-sample-submission.csv')"
      ],
      "execution_count": null,
      "outputs": []
    },
    {
      "metadata": {
        "trusted": true,
        "id": "tbwJp6v9Tr0T"
      },
      "cell_type": "code",
      "source": [
        "device = 'cpu'\n",
        "xy_data = np.array(xy_data)\n",
        "x_train = torch.FloatTensor(xy_data[:,1:-1]).to(device)\n",
        "y_train = torch.FloatTensor(xy_data[:,0]).to(device)\n",
        "x_test = np.array(x_test)\n",
        "x_test = torch.FloatTensor(x_test[:,:-1]).to(device)"
      ],
      "execution_count": null,
      "outputs": []
    },
    {
      "metadata": {
        "trusted": true,
        "id": "4lBmXV2lTr0U",
        "outputId": "fb4d3b96-a312-4660-f16f-55267b25929e"
      },
      "cell_type": "code",
      "source": [
        "from sklearn.tree import DecisionTreeClassifier\n",
        "\n",
        "dtc = DecisionTreeClassifier(criterion='gini', random_state=1)\n",
        "dtc.fit(x_train, y_train)\n",
        "y_train_pred = dtc.predict(x_train)\n",
        "y_test_pred = dtc.predict(x_test)\n",
        "\n",
        "from sklearn.metrics import accuracy_score\n",
        "print(accuracy_score(y_train, y_train_pred))\n"
      ],
      "execution_count": null,
      "outputs": [
        {
          "output_type": "stream",
          "text": "1.0\n",
          "name": "stdout"
        }
      ]
    },
    {
      "metadata": {
        "trusted": true,
        "id": "oNyJPQn5Tr0U"
      },
      "cell_type": "code",
      "source": [
        "submit['diagnosis']= y_test_pred\n",
        "submit=submit.astype(np.int32)\n",
        "submit.to_csv('submit.csv', mode='w', header= True, index= False)"
      ],
      "execution_count": null,
      "outputs": []
    }
  ],
  "metadata": {
    "kernelspec": {
      "name": "python3",
      "display_name": "Python 3",
      "language": "python"
    },
    "language_info": {
      "name": "python",
      "version": "3.7.9",
      "mimetype": "text/x-python",
      "codemirror_mode": {
        "name": "ipython",
        "version": 3
      },
      "pygments_lexer": "ipython3",
      "nbconvert_exporter": "python",
      "file_extension": ".py"
    },
    "colab": {
      "provenance": []
    }
  },
  "nbformat": 4,
  "nbformat_minor": 0
}